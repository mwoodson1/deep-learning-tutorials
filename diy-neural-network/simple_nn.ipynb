{
 "cells": [
  {
   "cell_type": "markdown",
   "metadata": {},
   "source": [
    "# DIY Neural Network\n",
    "For this first deep learning related blog post I will follow the tradition of deep learning bloggers doing a basic neural network for their first blog. The tradition is just though as it is a good exercise I believe everyone should do at least once. Even though it seems routine I hope though that I can present a different perspective than most others. In particular I will stray from any brain or neuron related analogies and explain the concepts more mathematically. \n",
    "\n",
    "I will do a few derivations but a large portion of the math will be left to the reader. Due to this I expect at least basic understanding of linear algebra, calculus, and some of the basics of machine learning."
   ]
  },
  {
   "cell_type": "markdown",
   "metadata": {},
   "source": [
    "## Import our Libraries\n",
    "I will primarily use the Numpy library in this and future tutorials. If you are unfamiliar with Numpy I suggest you take a look at some of the following references:\n",
    "\n",
    "\n",
    "I also use Matplotlib which has syntax very similar to that used in Matlab. scikit-learn is only used for importing our dataset but I encourage you to play around with other datasets to see how this code performs!"
   ]
  },
  {
   "cell_type": "code",
   "execution_count": 1,
   "metadata": {
    "collapsed": false
   },
   "outputs": [
    {
     "name": "stderr",
     "output_type": "stream",
     "text": [
      "/usr/local/lib/python2.7/dist-packages/matplotlib/font_manager.py:273: UserWarning: Matplotlib is building the font cache using fc-list. This may take a moment.\n",
      "  warnings.warn('Matplotlib is building the font cache using fc-list. This may take a moment.')\n"
     ]
    }
   ],
   "source": [
    "%matplotlib inline\n",
    "import numpy as np\n",
    "from sklearn.datasets import load_digits\n",
    "from sklearn.utils import shuffle\n",
    "from sklearn.preprocessing import LabelEncoder\n",
    "\n",
    "import matplotlib\n",
    "import matplotlib.pyplot as plt"
   ]
  },
  {
   "cell_type": "markdown",
   "metadata": {},
   "source": [
    "## Our Dataset\n",
    "We will be working with scikit-learn's MNIST dataset in this tutorial. This dataset consists of a set of images of digits 0-9 in the form of a 8x8 array or 64 total pixels. This dataset is commonly used to benchmark neural network performance in the literature so it is good to get to know it now rather than later.\n",
    "\n",
    "Before doing any kind of processing or running any machine learning algorithms you should always give at least a cursory glance at your data. In this case I am very familiar with this MNIST dataset and know the distribution of classes is relatively uniform, an image cannot have multiple labels, and other properties which are important in choosing your machine learning algorithm of choice. Because of this prior knowledge I only show what the images look like but I encourage you to get to know your data before simply throwing deep learning at it! In some cases you can get away with much simpler algorithms."
   ]
  },
  {
   "cell_type": "code",
   "execution_count": 2,
   "metadata": {
    "collapsed": false
   },
   "outputs": [
    {
     "data": {
      "text/plain": [
       "<matplotlib.text.Text at 0x7ff5b0372c50>"
      ]
     },
     "execution_count": 2,
     "metadata": {},
     "output_type": "execute_result"
    },
    {
     "data": {
      "image/png": "[encoded data removed]",
      "text/plain": [
       "<matplotlib.figure.Figure at 0x7ff5b08f0b90>"
      ]
     },
     "metadata": {},
     "output_type": "display_data"
    }
   ],
   "source": [
    "digits = load_digits()\n",
    "X_digits = digits.data\n",
    "y_digits = digits.target\n",
    "\n",
    "plt.matshow(digits.images[0],cmap='gray') \n",
    "\n",
    "plt.title('MNIST Example Image')"
   ]
  },
  {
   "cell_type": "markdown",
   "metadata": {},
   "source": [
    "We now split our dataset into a train and test set. We will use 80% of the data for training and 20% for testing. In practice you should also use a validation set but for the purpose of this tutorial a train and test is sufficient."
   ]
  },
  {
   "cell_type": "code",
   "execution_count": 3,
   "metadata": {
    "collapsed": false
   },
   "outputs": [
    {
     "name": "stdout",
     "output_type": "stream",
     "text": [
      "(1437, 64) (1437, 10)\n",
      "(360, 64) (360, 10)\n"
     ]
    }
   ],
   "source": [
    "num_examples, data_dim = X_digits.shape\n",
    "num_train_examples = int(0.8*num_examples)\n",
    "num_test_exmaples = num_examples - num_train_examples\n",
    "\n",
    "#shuffle our data\n",
    "X,y = shuffle(X_digits,y_digits)\n",
    "\n",
    "#one-hot encode our labels\n",
    "y_enc = np.zeros((num_examples,10))\n",
    "y_enc[np.arange(num_examples), y] = 1\n",
    "\n",
    "#split our data\n",
    "X_train = X[0:num_train_examples,:]\n",
    "y_train = y_enc[0:num_train_examples,:]\n",
    "\n",
    "X_test = X[num_train_examples:,:]\n",
    "y_test = y_enc[num_train_examples:,:]\n",
    "\n",
    "print X_train.shape, y_train.shape\n",
    "print X_test.shape, y_test.shape"
   ]
  },
  {
   "cell_type": "markdown",
   "metadata": {},
   "source": [
    "## Building a Neural Network\n",
    "\n",
    "### The Architecture\n",
    "We will start with the simplest neural network of 3 layers; input, hidden, and output. Our input size will be the dimension of our data (64) which is the number of pixels in our image, our output size will be 10 since there are 10 possible digits, and our hidden size will be left up to us. We can see a general picture of this below\n",
    "\n",
    "![Simple Neural Network Architecture](img/nn.jpeg)\n",
    "\n",
    "### The Activation Function\n",
    "Once we have the architecture of our network decided on we need a few more pieces before we can train it. One of the most crucial pieces is the activation function which adds a non-linearity to our network. We will see later that without this non-linearity the entire network can be compressed into a single matrix multiplication. The most common activation function in the current literature is [ReLU](https://en.wikipedia.org/wiki/Rectifier_(neural_networks)) but historically it has been [sigmoid](https://en.wikipedia.org/wiki/Sigmoid_function). For this tutorial I will stick with sigmoid due to its historical importance and ease of understanding the math of backpropogation.\n",
    "\n",
    "$$ReLU(x) = max(0,x)$$\n",
    "![ReLU Activation Function](img/relu.svg)\n",
    "\n",
    "$$sigmoid(x) = \\frac{1}{1 + e^{-x}}$$\n",
    "![Sigmoid Activation Function](img/sigmoid.png)\n",
    "\n",
    "### The Output\n",
    "Depending on your task you might also need to change the activation function of the output layer as well. In our case since we are performing a classification task we want each node to represent a probability of being that digit. The [softmax](https://en.wikipedia.org/wiki/Softmax_function) activation function does exactly this. Softmax  ensures that the output layer follows the rules of being a probability distribution. The exact formular for this is shown below.\n",
    "\n",
    "$$softmax(x_i) = \\frac{e^{x_i}}{\\sum_{k=1}^K e^{x_k}}$$\n",
    "\n",
    "Below we define our activation function and our output activation function."
   ]
  },
  {
   "cell_type": "code",
   "execution_count": 4,
   "metadata": {
    "collapsed": true
   },
   "outputs": [],
   "source": [
    "def sigmoid(x,deriv=False):\n",
    "    '''\n",
    "    x: vector input to activation function\n",
    "    deriv: indicator for whether we are calculating \n",
    "           the derivative of sigmoid\n",
    "           \n",
    "    The deriv parameter will be helpful in the backpropogation \n",
    "    calculations.\n",
    "    '''\n",
    "    if(deriv==True):\n",
    "        return x*(1-x)\n",
    "    return 1.0 / (1.0 + np.exp(-x))"
   ]
  },
  {
   "cell_type": "code",
   "execution_count": 5,
   "metadata": {
    "collapsed": true
   },
   "outputs": [],
   "source": [
    "def softmax(x):\n",
    "    '''\n",
    "    x: vector input from the last layer of our network\n",
    "    \n",
    "    Here I use a mathematical trick to ensure the calculations\n",
    "    are easier to compute. You can test yourself by ensuring that\n",
    "    this code correctly implements the formula above.\n",
    "    '''\n",
    "    e = np.exp(x - np.max(x,axis=1,keepdims=True))\n",
    "    return e / (np.sum(e,axis=1,keepdims=True))"
   ]
  },
  {
   "cell_type": "markdown",
   "metadata": {},
   "source": [
    "## Learning\n",
    "Now that we have defined our network we can begin to look at how exactly this structure can be used for classification and how to train such a model. We will start with the easy work first which is the classification or \"feed-forward\" step.\n",
    "\n",
    "### Forward Propogation\n",
    "Let $x$ be our input vector and $\\hat{y}$ be our output vector. For the forward propogation step we are simply concatenating a series of linear classifiers with a non-linearity. If you are familiar with [logistic regression] you can consider each layer performing a logistic regression followed by a non-linearity. Below is the exact definition of forward propogation\n",
    "\n",
    "$$\\begin{align}\n",
    "  z_1 &= xW_1 + b_1  \\\\\n",
    "  a_1 &= \\sigma (z_1) \\\\\n",
    "  z_2 &= a_1W_2 + b_2 \\\\\n",
    "  \\hat{y}a_2 &= softmax(z_2)\n",
    "\\end{align}\n",
    "$$\n",
    "\n",
    "Here $W_1$ is a matrix of weights representing the weighted connections between the input and hidden layer, $b_1$ is a bias term, $W_2$ is the matrix of weights connecting the hidden and output layer, and $b_2$ is the bias term for the last layer.\n",
    "\n",
    "Note that these formulas will vary depending on your non-linearity and number of layers but the mathematics behind it does not change. We can also see from these formulas why a non-linearity is important as without it we could simply compact all the computation into a single matrix multiplication which would result in simple logistic regression.\n",
    "\n",
    "### Backpropogation\n",
    "Now we get to the real meat of this tutorial which is backpropogation. The goal of backpropogation is to minimize the error in our training data. A common error function to use is [cross-entropy]() which we define below.\n",
    "\n",
    "$$L(y,\\hat{y}) = -\\frac{1}{N}\\sum_{n\\in N}\\sum_{i\\in C} y_{n,i}log(\\hat{y}_{n,i})$$\n",
    "\n",
    "Now we have everything we need to start our derivation of backpropogation. The key trick to backpropogation is knowing that we will be optimizing this network with gradient descent. Knowing this all we need to be able to compute is the gradient of the loss with respect to all of the parameters of the network. With this we can make a \"step\" in the right direction during the optimization process. \n",
    "\n",
    "The reason this algorithm is called backpropogation is the direction in which we go through the network when calculating the gradients is in reverse to the direction we took during forward propogation. Knowing this we first calculate the derivative of the error with respect to the output of the last layer. The derivation for this particular step is rather cumbersome but leads to a elegant solution\n",
    "\n",
    "$$\\delta_3 = \\frac{\\partial L}{\\partial z_2} = y-\\hat{y}$$\n",
    "\n",
    "Let us also define\n",
    "\n",
    "$$\\delta_2 = \\frac{\\partial L}{\\partial z_1}$$\n",
    "\n",
    "which translates to the derivative of the loss with respect to the output of layer 1 before applying the activation function or \"pre-activation\" for short. To calculate this derivative we apply the chain rule of calculus\n",
    "\n",
    "$$\\begin{align}\n",
    "\\delta_2 &= \\frac{\\partial L}{\\partial z_1} \\\\\n",
    "&= \\frac{\\partial L}{\\partial z_2}\\frac{\\partial z_2}{\\partial z_1} \\\\\n",
    "&= \\delta_3 \\frac{\\partial z_2}{\\partial a_1}\\frac{\\partial a_1}{\\partial z_1} \\\\\n",
    "&= \\delta_3 W_2 (\\sigma(z_1)(1-\\sigma(z_1)))\n",
    "\\end{align}\n",
    "$$\n",
    "\n",
    "With that all of the hard math is done believe it or not. We can easily define all of the gradients we need now\n",
    "\n",
    "$$\n",
    "\\begin{align}\n",
    "\\delta_3 &= y-\\hat{y} \\\\\n",
    "\\frac{\\partial L}{\\partial W_2} &= \\frac{\\partial L}{\\partial z_2}\\frac{\\partial z_2}{\\partial W2} = a_1^T\\delta_3 \\\\\n",
    "\\frac{\\partial L}{\\partial b_2} &= \\delta_3 \\\\\n",
    "\\delta_2 &= \\delta_3 W_2 (\\sigma(z_1)(1-\\sigma(z_1))) \\\\\n",
    "\\frac{\\partial L}{\\partial W_1} &= \\frac{\\partial L}{\\partial z_1}\\frac{\\partial z_1}{\\partial W_1} = x^T\\delta_2 \\\\\n",
    "\\frac{\\partial L}{\\partial b_1} &= \\delta_2\n",
    "\\end{align}\n",
    "$$\n",
    "\n",
    "And that's it! With this we can now apply gradient descent to train our network. And not one mention of neurons or any relation to the brain at all :). I believe that it is easier to not think of individual neurons and look at these networks as a series of matrix multiplies and non-linearities. This way it is easier to see the relation to other algorithms such as logistic regression and allows you to look at papers which do delve into math and not be afraid. If you feel this was a bit too rushed and you would like more details than check out some of the suggested material I would reccomend at the end of this tutorial. On to the code!"
   ]
  },
  {
   "cell_type": "markdown",
   "metadata": {},
   "source": [
    "## The Code"
   ]
  },
  {
   "cell_type": "code",
   "execution_count": 6,
   "metadata": {
    "collapsed": false
   },
   "outputs": [],
   "source": [
    "class NeuralNetwork(object):\n",
    "    \n",
    "    def __init__(self,nb_units,learning_rate,random_seed=1234):\n",
    "        '''\n",
    "        nb_units: The number of units in our hidden layer\n",
    "        learning_rate: Learning rate for gradient descent\n",
    "        random_seed: Seed for our random number generator\n",
    "        \n",
    "        It is always good to seed your random number generator in \n",
    "        your code as neural networks are inherently random and \n",
    "        doing this allows easier reproducibility of your results.\n",
    "        '''\n",
    "        self.W1 = np.random.randn(64, nb_units) / np.sqrt(64)\n",
    "        self.b1 = np.zeros([1,nb_units])\n",
    "        self.W2 = np.random.randn(nb_units, 10) / np.sqrt(nb_units)\n",
    "        self.b2 = np.zeros([1,10])\n",
    "        \n",
    "        self.lr = learning_rate\n",
    "        \n",
    "    def loss(self,X,y):\n",
    "        '''\n",
    "        X: Matrix of data points\n",
    "        y: Matrix of labels in one-hot encoded form\n",
    "        \n",
    "        This function computes our cross-entropy loss. Notice that it\n",
    "        is very expensive to compute this as we have to iterate over\n",
    "        all examples while in backpropogation we only need its derivative\n",
    "        which is much easier to compute\n",
    "        '''\n",
    "        z1 = X.dot(self.W1) + self.b1\n",
    "        a1 = sigmoid(z1)\n",
    "        z2 = a1.dot(self.W2) + self.b2\n",
    "        probs = softmax(z2)\n",
    "        \n",
    "        log_probs = np.log(probs*y)\n",
    "        log_probs[log_probs == -np.inf] = 0\n",
    "        \n",
    "        loss = -np.sum(log_probs)\n",
    "        return (1./len(X)) * loss\n",
    "    \n",
    "    def accuracy(self,X,y):\n",
    "        '''\n",
    "        X: Matrix of data points\n",
    "        y: Matrix of labels in one-hot encoded form\n",
    "        \n",
    "        A helper function to compute the accuracy of our network\n",
    "        '''\n",
    "        correct = 0\n",
    "        incorrect = 0\n",
    "        for i in xrange(len(y)):\n",
    "            x = X[i,:]\n",
    "            label = np.nonzero(y[i])[0][0]\n",
    "            pred = model.predict(x)\n",
    "            if label == pred:\n",
    "                correct += 1\n",
    "            else:\n",
    "                incorrect += 1\n",
    "        return float(correct) / (correct + incorrect)\n",
    "    \n",
    "    def predict(self,x):\n",
    "        '''\n",
    "        x: A vector of pixels for a single example\n",
    "        \n",
    "        Runs our network for a single example to get a prediction\n",
    "        '''\n",
    "        z1 = x.dot(self.W1) + self.b1\n",
    "        a1 = sigmoid(z1)\n",
    "        z2 = a1.dot(self.W2) + self.b2\n",
    "        probs = softmax(z2)\n",
    "        return np.argmax(probs, axis=1)\n",
    "        \n",
    "    def train(self,X,y,nb_epoch):\n",
    "        '''\n",
    "        X: Matrix of data points\n",
    "        y: Matrix of labels in one-hot encoded form\n",
    "        nb_epoch: The number of epochs to train for\n",
    "        \n",
    "        This function performs the forward propogation and backward \n",
    "        propogation for the given number of epochs\n",
    "        '''\n",
    "        n_training,data_dim = X.shape\n",
    "        for i in xrange(nb_epoch):\n",
    "            for j in xrange(n_training):\n",
    "                x = X[j,:].reshape([1,data_dim])\n",
    "                \n",
    "                #Forward propogation\n",
    "                z1 = x.dot(self.W1) + self.b1\n",
    "                a1 = sigmoid(z1)\n",
    "                z2 = a1.dot(self.W2) + self.b2\n",
    "                probs = softmax(z2)\n",
    "                \n",
    "                #Backpropogation\n",
    "                d3 = -(y[j]-probs)\n",
    "                \n",
    "                dW2 = a1.T.dot(d3)\n",
    "                db2 = np.sum(d3,axis=0,keepdims=True)\n",
    "                \n",
    "                d2 = d3.dot(self.W2.T) * sigmoid(a1,deriv=True)\n",
    "                \n",
    "                dW1 = x.T.dot(d2)\n",
    "                db1 = np.sum(d2,axis=0)\n",
    "                \n",
    "                #Update weights\n",
    "                self.W1 += -lr * dW1\n",
    "                self.b1 += -lr * db1\n",
    "                self.W2 += -lr * dW2\n",
    "                self.b2 += -lr * db2\n",
    "                \n",
    "            #print our loss at the end of each epoch\n",
    "            print \"Loss at epoch {}: {}\".format(i,self.loss(X,y))\n",
    "            \n",
    "        print \"Training complete!\""
   ]
  },
  {
   "cell_type": "code",
   "execution_count": 7,
   "metadata": {
    "collapsed": false
   },
   "outputs": [
    {
     "name": "stderr",
     "output_type": "stream",
     "text": [
      "/usr/local/lib/python2.7/dist-packages/ipykernel/__main__.py:35: RuntimeWarning: divide by zero encountered in log\n"
     ]
    },
    {
     "name": "stdout",
     "output_type": "stream",
     "text": [
      "Loss at epoch 0: 0.227393185523\n",
      "Loss at epoch 1: 0.124926830203\n",
      "Loss at epoch 2: 0.0849156272638\n",
      "Loss at epoch 3: 0.0621657498182\n",
      "Loss at epoch 4: 0.047015334521\n",
      "Loss at epoch 5: 0.0361425551262\n",
      "Loss at epoch 6: 0.0284811106629\n",
      "Loss at epoch 7: 0.0234222873346\n",
      "Loss at epoch 8: 0.0199735525547\n",
      "Loss at epoch 9: 0.0174566992262\n",
      "Training complete!\n"
     ]
    }
   ],
   "source": [
    "nb_epoch = 10\n",
    "nb_units = 200\n",
    "lr = 0.01\n",
    "\n",
    "#define our model\n",
    "model = NeuralNetwork(nb_units,lr)\n",
    "\n",
    "#train our model\n",
    "model.train(X_train,y_train,nb_epoch)"
   ]
  },
  {
   "cell_type": "code",
   "execution_count": 8,
   "metadata": {
    "collapsed": false
   },
   "outputs": [
    {
     "name": "stdout",
     "output_type": "stream",
     "text": [
      "0.977777777778\n"
     ]
    }
   ],
   "source": [
    "#test our model\n",
    "print model.accuracy(X_test,y_test)"
   ]
  },
  {
   "cell_type": "markdown",
   "metadata": {
    "collapsed": true
   },
   "source": [
    "## Things to Try\n",
    "Below are some exercises you can attempt to confirm you understand the backpropogation algorithm and the different components of a neural network. I also list some \"essential reading\" which goes over some of these methods. I highly reccomend you go over those papers as they will be your bread and butter of sorts.\n",
    "\n",
    "- Play around with the various hyperparameters\n",
    "- Add dropout\n",
    "- Add momentum\n",
    "- Add nesterov momentum\n",
    "- Add l2 regularization\n",
    "- Try better activation functions such as tanh or ReLU\n",
    "- Add support for any number of layers"
   ]
  },
  {
   "cell_type": "markdown",
   "metadata": {},
   "source": [
    "## Important Reads\n",
    "- [Dropout: A Simple Way to Prevent Neural Networks from Overfitting](https://www.cs.toronto.edu/~hinton/absps/JMLRdropout.pdf)\n",
    "- [On the importance of initialization and momentum in deep learning](http://jmlr.org/proceedings/papers/v28/sutskever13.pdf)\n",
    "- [Delving Deep into Rectifiers: Surpassing Human-Level Performance on ImageNet Classification](https://arxiv.org/abs/1502.01852)"
   ]
  },
  {
   "cell_type": "code",
   "execution_count": null,
   "metadata": {
    "collapsed": true
   },
   "outputs": [],
   "source": []
  }
 ],
 "metadata": {
  "kernelspec": {
   "display_name": "Python 2",
   "language": "python",
   "name": "python2"
  },
  "language_info": {
   "codemirror_mode": {
    "name": "ipython",
    "version": 2
   },
   "file_extension": ".py",
   "mimetype": "text/x-python",
   "name": "python",
   "nbconvert_exporter": "python",
   "pygments_lexer": "ipython2",
   "version": "2.7.6"
  }
 },
 "nbformat": 4,
 "nbformat_minor": 1
}
